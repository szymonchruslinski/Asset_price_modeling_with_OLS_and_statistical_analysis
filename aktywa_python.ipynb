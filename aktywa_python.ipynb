{
 "cells": [
  {
   "cell_type": "markdown",
   "metadata": {},
   "source": [
    "### **Projekt zaliczeniowy z przedmiotu \"Programowanie w języku Python\"**"
   ]
  },
  {
   "cell_type": "code",
   "execution_count": 1,
   "metadata": {},
   "outputs": [],
   "source": [
    "import pandas as pd\n",
    "import numpy as np\n",
    "import yfinance as yf\n",
    "import scipy.stats as st\n",
    "import seaborn as sns\n",
    "import matplotlib.pyplot as plt\n",
    "import statsmodels.api as sm"
   ]
  },
  {
   "cell_type": "markdown",
   "metadata": {},
   "source": [
    "## Pobranie zbioru danych\n",
    "Dane pobieram za pomocą biblioteki yfinance, która umożliwia pozyskiwanie danych finansowych ze strony finance.yahoo.com.\n",
    "\n",
    "W tym przypadku zbieram dane dotyczące złota (GC-F), srebra (SI-F) oraz kawy (KC-F) od 1 września 2023 roku do 10 czerwca 2024 roku.\n",
    "\n",
    "W ramce danych umieszczam kolumnę zawierającą wartości kursu zamknięcia (Close), czyli notowanie na końcu dnia handlowego dla wszystkich aktywów."
   ]
  },
  {
   "cell_type": "markdown",
   "metadata": {},
   "source": [
    "Ten kod służy do pobrania danych z Yahoo Finance dla złota (GC=F), srebra (SI=F) i kawy (KC=F) w zakresie od 1 września 2023 do 10 czerwca 2024.  \n",
    "W praktyce nie musimy już wykorzystywać poniższych kodów – dane zostały wcześniej pobrane i zapisane do pliku `dane.csv`.  \n",
    "Można je teraz wygodnie wczytać z pliku, bez ponownego pobierania z internetu.\n",
    "``` python\n",
    "gold = yf.download(\"GC=F\", start='2023-09-01', end='2024-06-10')\n",
    "silver = yf.download(\"SI=F\", start='2023-09-01', end='2024-06-10')\n",
    "coffee = yf.download(\"KC=F\", start='2023-09-01', end='2024-06-10')\n",
    "\n",
    "data = pd.DataFrame({\n",
    "    'gold': gold['Close'].squeeze(),\n",
    "    'silver': silver['Close'].squeeze(),\n",
    "    'coffee': coffee['Close'].squeeze()\n",
    "})\n",
    "\n",
    "data = data.dropna()\n",
    "\n",
    "data.to_csv('dane.csv')"
   ]
  },
  {
   "cell_type": "code",
   "execution_count": 2,
   "metadata": {},
   "outputs": [],
   "source": [
    "data = pd.read_csv('dane.csv', index_col=0, parse_dates=True)"
   ]
  },
  {
   "cell_type": "code",
   "execution_count": 3,
   "metadata": {},
   "outputs": [
    {
     "data": {
      "application/vnd.microsoft.datawrangler.viewer.v0+json": {
       "columns": [
        {
         "name": "Date",
         "rawType": "datetime64[ns]",
         "type": "datetime"
        },
        {
         "name": "gold",
         "rawType": "float64",
         "type": "float"
        },
        {
         "name": "silver",
         "rawType": "float64",
         "type": "float"
        },
        {
         "name": "coffee",
         "rawType": "float64",
         "type": "float"
        }
       ],
       "conversionMethod": "pd.DataFrame",
       "ref": "8166091d-66e3-4049-8e48-ee7f0de3497f",
       "rows": [
        [
         "2023-09-01 00:00:00",
         "1939.800048828125",
         "24.23200035095215",
         "150.9499969482422"
        ],
        [
         "2023-09-05 00:00:00",
         "1926.199951171875",
         "23.558000564575195",
         "151.39999389648438"
        ],
        [
         "2023-09-06 00:00:00",
         "1918.0999755859373",
         "23.20599937438965",
         "151.75"
        ],
        [
         "2023-09-07 00:00:00",
         "1917.5",
         "22.950000762939453",
         "147.39999389648438"
        ],
        [
         "2023-09-08 00:00:00",
         "1918.4000244140625",
         "22.892000198364254",
         "146.25"
        ]
       ],
       "shape": {
        "columns": 3,
        "rows": 5
       }
      },
      "text/html": [
       "<div>\n",
       "<style scoped>\n",
       "    .dataframe tbody tr th:only-of-type {\n",
       "        vertical-align: middle;\n",
       "    }\n",
       "\n",
       "    .dataframe tbody tr th {\n",
       "        vertical-align: top;\n",
       "    }\n",
       "\n",
       "    .dataframe thead th {\n",
       "        text-align: right;\n",
       "    }\n",
       "</style>\n",
       "<table border=\"1\" class=\"dataframe\">\n",
       "  <thead>\n",
       "    <tr style=\"text-align: right;\">\n",
       "      <th></th>\n",
       "      <th>gold</th>\n",
       "      <th>silver</th>\n",
       "      <th>coffee</th>\n",
       "    </tr>\n",
       "    <tr>\n",
       "      <th>Date</th>\n",
       "      <th></th>\n",
       "      <th></th>\n",
       "      <th></th>\n",
       "    </tr>\n",
       "  </thead>\n",
       "  <tbody>\n",
       "    <tr>\n",
       "      <th>2023-09-01</th>\n",
       "      <td>1939.800049</td>\n",
       "      <td>24.232000</td>\n",
       "      <td>150.949997</td>\n",
       "    </tr>\n",
       "    <tr>\n",
       "      <th>2023-09-05</th>\n",
       "      <td>1926.199951</td>\n",
       "      <td>23.558001</td>\n",
       "      <td>151.399994</td>\n",
       "    </tr>\n",
       "    <tr>\n",
       "      <th>2023-09-06</th>\n",
       "      <td>1918.099976</td>\n",
       "      <td>23.205999</td>\n",
       "      <td>151.750000</td>\n",
       "    </tr>\n",
       "    <tr>\n",
       "      <th>2023-09-07</th>\n",
       "      <td>1917.500000</td>\n",
       "      <td>22.950001</td>\n",
       "      <td>147.399994</td>\n",
       "    </tr>\n",
       "    <tr>\n",
       "      <th>2023-09-08</th>\n",
       "      <td>1918.400024</td>\n",
       "      <td>22.892000</td>\n",
       "      <td>146.250000</td>\n",
       "    </tr>\n",
       "  </tbody>\n",
       "</table>\n",
       "</div>"
      ],
      "text/plain": [
       "                   gold     silver      coffee\n",
       "Date                                          \n",
       "2023-09-01  1939.800049  24.232000  150.949997\n",
       "2023-09-05  1926.199951  23.558001  151.399994\n",
       "2023-09-06  1918.099976  23.205999  151.750000\n",
       "2023-09-07  1917.500000  22.950001  147.399994\n",
       "2023-09-08  1918.400024  22.892000  146.250000"
      ]
     },
     "execution_count": 3,
     "metadata": {},
     "output_type": "execute_result"
    }
   ],
   "source": [
    "data.head()"
   ]
  },
  {
   "cell_type": "code",
   "execution_count": 13,
   "metadata": {},
   "outputs": [
    {
     "data": {
      "application/vnd.microsoft.datawrangler.viewer.v0+json": {
       "columns": [
        {
         "name": "index",
         "rawType": "object",
         "type": "string"
        },
        {
         "name": "gold",
         "rawType": "float64",
         "type": "float"
        },
        {
         "name": "silver",
         "rawType": "float64",
         "type": "float"
        },
        {
         "name": "coffee",
         "rawType": "float64",
         "type": "float"
        }
       ],
       "conversionMethod": "pd.DataFrame",
       "ref": "efb3b0b5-e92a-49d8-9dc5-8085e8a80c7b",
       "rows": [
        [
         "count",
         "193.0",
         "193.0",
         "193.0"
        ],
        [
         "mean",
         "2092.011392",
         "24.620404",
         "188.135492"
        ],
        [
         "std",
         "164.469857",
         "2.634101",
         "24.121009"
        ],
        [
         "min",
         "1816.599976",
         "20.848",
         "145.399994"
        ],
        [
         "25%",
         "1981.599976",
         "22.808001",
         "174.350006"
        ],
        [
         "50%",
         "2031.5",
         "23.579",
         "190.100006"
        ],
        [
         "75%",
         "2236.5",
         "25.499001",
         "200.100006"
        ],
        [
         "max",
         "2433.899902",
         "32.205002",
         "247.949997"
        ]
       ],
       "shape": {
        "columns": 3,
        "rows": 8
       }
      },
      "text/html": [
       "<div>\n",
       "<style scoped>\n",
       "    .dataframe tbody tr th:only-of-type {\n",
       "        vertical-align: middle;\n",
       "    }\n",
       "\n",
       "    .dataframe tbody tr th {\n",
       "        vertical-align: top;\n",
       "    }\n",
       "\n",
       "    .dataframe thead th {\n",
       "        text-align: right;\n",
       "    }\n",
       "</style>\n",
       "<table border=\"1\" class=\"dataframe\">\n",
       "  <thead>\n",
       "    <tr style=\"text-align: right;\">\n",
       "      <th></th>\n",
       "      <th>gold</th>\n",
       "      <th>silver</th>\n",
       "      <th>coffee</th>\n",
       "    </tr>\n",
       "  </thead>\n",
       "  <tbody>\n",
       "    <tr>\n",
       "      <th>count</th>\n",
       "      <td>193.000000</td>\n",
       "      <td>193.000000</td>\n",
       "      <td>193.000000</td>\n",
       "    </tr>\n",
       "    <tr>\n",
       "      <th>mean</th>\n",
       "      <td>2092.011392</td>\n",
       "      <td>24.620404</td>\n",
       "      <td>188.135492</td>\n",
       "    </tr>\n",
       "    <tr>\n",
       "      <th>std</th>\n",
       "      <td>164.469857</td>\n",
       "      <td>2.634101</td>\n",
       "      <td>24.121009</td>\n",
       "    </tr>\n",
       "    <tr>\n",
       "      <th>min</th>\n",
       "      <td>1816.599976</td>\n",
       "      <td>20.848000</td>\n",
       "      <td>145.399994</td>\n",
       "    </tr>\n",
       "    <tr>\n",
       "      <th>25%</th>\n",
       "      <td>1981.599976</td>\n",
       "      <td>22.808001</td>\n",
       "      <td>174.350006</td>\n",
       "    </tr>\n",
       "    <tr>\n",
       "      <th>50%</th>\n",
       "      <td>2031.500000</td>\n",
       "      <td>23.579000</td>\n",
       "      <td>190.100006</td>\n",
       "    </tr>\n",
       "    <tr>\n",
       "      <th>75%</th>\n",
       "      <td>2236.500000</td>\n",
       "      <td>25.499001</td>\n",
       "      <td>200.100006</td>\n",
       "    </tr>\n",
       "    <tr>\n",
       "      <th>max</th>\n",
       "      <td>2433.899902</td>\n",
       "      <td>32.205002</td>\n",
       "      <td>247.949997</td>\n",
       "    </tr>\n",
       "  </tbody>\n",
       "</table>\n",
       "</div>"
      ],
      "text/plain": [
       "              gold      silver      coffee\n",
       "count   193.000000  193.000000  193.000000\n",
       "mean   2092.011392   24.620404  188.135492\n",
       "std     164.469857    2.634101   24.121009\n",
       "min    1816.599976   20.848000  145.399994\n",
       "25%    1981.599976   22.808001  174.350006\n",
       "50%    2031.500000   23.579000  190.100006\n",
       "75%    2236.500000   25.499001  200.100006\n",
       "max    2433.899902   32.205002  247.949997"
      ]
     },
     "execution_count": 13,
     "metadata": {},
     "output_type": "execute_result"
    }
   ],
   "source": [
    "data.describe(include='all').round(6)"
   ]
  },
  {
   "cell_type": "code",
   "execution_count": 16,
   "metadata": {},
   "outputs": [
    {
     "name": "stdout",
     "output_type": "stream",
     "text": [
      "Wartości dla złota: \n",
      "\n",
      "Wartość średnia: 2092.0114\n",
      "Wartość maksymalna: 2433.8999\n",
      "Wartość minimalna: 1816.6000\n",
      "Odchylenie standardowe: 164.4699\n",
      "Wariancja: 27050.3339\n",
      "Skośność: 0.5544\n",
      "Kurtoza: -0.947\n",
      "Kwantyl rzędu 0.25: 1981.6000\n",
      "Kwantyl rzędu 0.5: 2031.5000\n",
      "Kwantyl rzędu 0.75: 2236.5000\n",
      "\n",
      "\n"
     ]
    }
   ],
   "source": [
    "print(\"Wartości dla złota: \\n\")\n",
    "print('Wartość średnia: %.4f' %data.gold.mean())\n",
    "print(\"Wartość maksymalna: %.4f\" %data.gold.max())\n",
    "print(\"Wartość minimalna: %.4f\" %data.gold.min())\n",
    "print(\"Odchylenie standardowe: %.4f\" %data.gold.std())\n",
    "print('Wariancja: %.4f' %data.gold.var())\n",
    "print('Skośność: %.4f' %st.skew(data.gold))\n",
    "print('Kurtoza: %.3f' %st.kurtosis(data.gold))\n",
    "print('Kwantyl rzędu 0.25: %.4f' %np.quantile(data.gold, q=0.25))\n",
    "print('Kwantyl rzędu 0.5: %.4f' %np.quantile(data.gold, q=0.5))\n",
    "print('Kwantyl rzędu 0.75: %.4f' %np.quantile(data.gold, q=0.75))\n",
    "print(\"\\n\")"
   ]
  },
  {
   "cell_type": "code",
   "execution_count": 17,
   "metadata": {},
   "outputs": [
    {
     "name": "stdout",
     "output_type": "stream",
     "text": [
      "Wartości dla srebra: \n",
      "\n",
      "Wartość średnia: 24.6204\n",
      "Wartość maksymalna: 32.2050\n",
      "Wartość minimalna: 20.8480\n",
      "Odchylenie standardowe: 2.6341\n",
      "Wariancja: 6.9385\n",
      "Skośność: 1.2251\n",
      "Kurtoza: 0.565\n",
      "Kwantyl rzędu 0.25: 22.8080\n",
      "Kwantyl rzędu 0.5: 23.5790\n",
      "Kwantyl rzędu 0.75: 25.4990\n"
     ]
    }
   ],
   "source": [
    "print(\"Wartości dla srebra: \\n\")\n",
    "print('Wartość średnia: %.4f' %data.silver.mean())\n",
    "print(\"Wartość maksymalna: %.4f\" %data.silver.max())\n",
    "print(\"Wartość minimalna: %.4f\" %data.silver.min())\n",
    "print(\"Odchylenie standardowe: %.4f\" %data.silver.std())\n",
    "print('Wariancja: %.4f' %data.silver.var())\n",
    "print('Skośność: %.4f' %st.skew(data.silver))\n",
    "print('Kurtoza: %.3f' %st.kurtosis(data.silver))\n",
    "print('Kwantyl rzędu 0.25: %.4f' %np.quantile(data.silver, q=0.25))\n",
    "print('Kwantyl rzędu 0.5: %.4f' %np.quantile(data.silver, q=0.5))\n",
    "print('Kwantyl rzędu 0.75: %.4f' %np.quantile(data.silver, q=0.75))"
   ]
  },
  {
   "cell_type": "code",
   "execution_count": 18,
   "metadata": {},
   "outputs": [
    {
     "name": "stdout",
     "output_type": "stream",
     "text": [
      "Wartości dla kawy: \n",
      "\n",
      "Wartość średnia: 188.1355\n",
      "Wartość maksymalna: 247.9500\n",
      "Wartość minimalna: 145.4000\n",
      "Odchylenie standardowe: 24.1210\n",
      "Wariancja: 581.8231\n",
      "Skośność: 0.1086\n",
      "Kurtoza: -0.424\n",
      "Kwantyl rzędu 0.25: 174.3500\n",
      "Kwantyl rzędu 0.5: 190.1000\n",
      "Kwantyl rzędu 0.75: 200.1000\n"
     ]
    }
   ],
   "source": [
    "print(\"Wartości dla kawy: \\n\")\n",
    "print('Wartość średnia: %.4f' %data.coffee.mean())\n",
    "print(\"Wartość maksymalna: %.4f\" %data.coffee.max())\n",
    "print(\"Wartość minimalna: %.4f\" %data.coffee.min())\n",
    "print(\"Odchylenie standardowe: %.4f\" %data.coffee.std())\n",
    "print('Wariancja: %.4f' %data.coffee.var())\n",
    "print('Skośność: %.4f' %st.skew(data.coffee))\n",
    "print('Kurtoza: %.3f' %st.kurtosis(data.coffee))\n",
    "print('Kwantyl rzędu 0.25: %.4f' %np.quantile(data.coffee, q=0.25))\n",
    "print('Kwantyl rzędu 0.5: %.4f' %np.quantile(data.coffee, q=0.5))\n",
    "print('Kwantyl rzędu 0.75: %.4f' %np.quantile(data.coffee, q=0.75))"
   ]
  },
  {
   "cell_type": "markdown",
   "metadata": {},
   "source": [
    "Tworzę macierz korelacji ,aby dokładniej ustalić, którą zmienną wybrać jako Y."
   ]
  },
  {
   "cell_type": "code",
   "execution_count": 20,
   "metadata": {},
   "outputs": [
    {
     "name": "stdout",
     "output_type": "stream",
     "text": [
      "Axes(0.125,0.11;0.62x0.77)\n"
     ]
    },
    {
     "data": {
      "image/png": "[encoded data removed]",
      "text/plain": [
       "<Figure size 640x480 with 2 Axes>"
      ]
     },
     "metadata": {},
     "output_type": "display_data"
    }
   ],
   "source": [
    "correlation = sns.heatmap(data.corr(), annot=True, cmap='coolwarm', linewidths=0.5)\n",
    "print(correlation)"
   ]
  },
  {
   "cell_type": "markdown",
   "metadata": {},
   "source": [
    "Zmienna gold ma najwyższe korelacje z pozostałymi zmiennymi, zatem model Y=X1+X2 będzie najbardziej efektywny jeśli jako Y przyjmiemy zmienną gold."
   ]
  },
  {
   "cell_type": "code",
   "execution_count": 21,
   "metadata": {},
   "outputs": [
    {
     "name": "stdout",
     "output_type": "stream",
     "text": [
      "\n",
      "Wyniki modelu OLS (gold ~ silver + coffee):\n",
      "                            OLS Regression Results                            \n",
      "==============================================================================\n",
      "Dep. Variable:                   gold   R-squared:                       0.909\n",
      "Model:                            OLS   Adj. R-squared:                  0.908\n",
      "Method:                 Least Squares   F-statistic:                     953.6\n",
      "Date:                śr., 02 kwi 2025   Prob (F-statistic):          8.40e-100\n",
      "Time:                        12:15:06   Log-Likelihood:                -1026.4\n",
      "No. Observations:                 193   AIC:                             2059.\n",
      "Df Residuals:                     190   BIC:                             2069.\n",
      "Df Model:                           2                                         \n",
      "Covariance Type:            nonrobust                                         \n",
      "==============================================================================\n",
      "                 coef    std err          t      P>|t|      [0.025      0.975]\n",
      "------------------------------------------------------------------------------\n",
      "const        639.8378     33.971     18.835      0.000     572.830     706.846\n",
      "silver        37.0905      2.102     17.641      0.000      32.943      41.238\n",
      "coffee         2.8649      0.230     12.478      0.000       2.412       3.318\n",
      "==============================================================================\n",
      "Omnibus:                        0.152   Durbin-Watson:                   0.129\n",
      "Prob(Omnibus):                  0.927   Jarque-Bera (JB):                0.021\n",
      "Skew:                           0.006   Prob(JB):                        0.989\n",
      "Kurtosis:                       3.050   Cond. No.                     1.81e+03\n",
      "==============================================================================\n",
      "\n",
      "Notes:\n",
      "[1] Standard Errors assume that the covariance matrix of the errors is correctly specified.\n",
      "[2] The condition number is large, 1.81e+03. This might indicate that there are\n",
      "strong multicollinearity or other numerical problems.\n"
     ]
    }
   ],
   "source": [
    "X = data[['silver', 'coffee']]\n",
    "X = sm.add_constant(X)\n",
    "Y = data['gold']\n",
    "print(\"\\nWyniki modelu OLS (gold ~ silver + coffee):\")\n",
    "model = sm.OLS(Y, X).fit()\n",
    "print(model.summary())"
   ]
  },
  {
   "cell_type": "markdown",
   "metadata": {},
   "source": [
    "Skorygowany współczynnik determinacji $R^2$ wynosi w przybliżeniu $0.91$ co oznacza, że $91\\%$ zmienności zmiennej Y (złota) jest wyjaśniane przez model. Oznacza to, że tylko około $9\\%$ zmienności nie jest wyjaśniane przez model, co sugeruje, że nasz model jest bardzo dobry."
   ]
  },
  {
   "cell_type": "code",
   "execution_count": 12,
   "metadata": {},
   "outputs": [
    {
     "name": "stdout",
     "output_type": "stream",
     "text": [
      "\n",
      "Wyniki modelu OLS (gold ~ silver):\n",
      "                            OLS Regression Results                            \n",
      "==============================================================================\n",
      "Dep. Variable:                   gold   R-squared:                       0.835\n",
      "Model:                            OLS   Adj. R-squared:                  0.834\n",
      "Method:                 Least Squares   F-statistic:                     967.8\n",
      "Date:                śr., 02 kwi 2025   Prob (F-statistic):           1.06e-76\n",
      "Time:                        12:09:25   Log-Likelihood:                -1084.2\n",
      "No. Observations:                 193   AIC:                             2172.\n",
      "Df Residuals:                     191   BIC:                             2179.\n",
      "Df Model:                           1                                         \n",
      "Covariance Type:            nonrobust                                         \n",
      "==============================================================================\n",
      "                 coef    std err          t      P>|t|      [0.025      0.975]\n",
      "------------------------------------------------------------------------------\n",
      "const        687.1415     45.416     15.130      0.000     597.560     776.723\n",
      "silver        57.0612      1.834     31.109      0.000      53.443      60.679\n",
      "==============================================================================\n",
      "Omnibus:                       32.683   Durbin-Watson:                   0.071\n",
      "Prob(Omnibus):                  0.000   Jarque-Bera (JB):                9.695\n",
      "Skew:                          -0.240   Prob(JB):                      0.00785\n",
      "Kurtosis:                       2.012   Cond. No.                         234.\n",
      "==============================================================================\n",
      "\n",
      "Notes:\n",
      "[1] Standard Errors assume that the covariance matrix of the errors is correctly specified.\n"
     ]
    }
   ],
   "source": [
    "X = data[['silver']]\n",
    "X = sm.add_constant(X)\n",
    "Y = data['gold']\n",
    "print(\"\\nWyniki modelu OLS (gold ~ silver):\")\n",
    "model_silver = sm.OLS(Y, X).fit()\n",
    "print(model_silver.summary())"
   ]
  },
  {
   "cell_type": "markdown",
   "metadata": {},
   "source": [
    "Skorygowany współczynnik determinacji $R^2$ wynosi w przybliżeniu $0.83$ co oznacza, że $83\\%$ zmienności zmiennej Y (złota) jest wyjaśniane przez model. Oznacza to, że tylko około $17\\%$ zmienności nie jest wyjaśniane przez model, co sugeruje, że ten model jest wciąż bardzo dobry."
   ]
  },
  {
   "cell_type": "code",
   "execution_count": 67,
   "metadata": {},
   "outputs": [
    {
     "name": "stdout",
     "output_type": "stream",
     "text": [
      "\n",
      "Wyniki modelu OLS (gold ~ coffee):\n",
      "                            OLS Regression Results                            \n",
      "==============================================================================\n",
      "Dep. Variable:                   gold   R-squared:                       0.761\n",
      "Model:                            OLS   Adj. R-squared:                  0.760\n",
      "Method:                 Least Squares   F-statistic:                     608.2\n",
      "Date:                śr., 02 kwi 2025   Prob (F-statistic):           2.84e-61\n",
      "Time:                        12:00:29   Log-Likelihood:                -1120.1\n",
      "No. Observations:                 193   AIC:                             2244.\n",
      "Df Residuals:                     191   BIC:                             2251.\n",
      "Df Model:                           1                                         \n",
      "Covariance Type:            nonrobust                                         \n",
      "==============================================================================\n",
      "                 coef    std err          t      P>|t|      [0.025      0.975]\n",
      "------------------------------------------------------------------------------\n",
      "const        972.9376     45.746     21.268      0.000     882.706    1063.169\n",
      "coffee         5.9482      0.241     24.662      0.000       5.472       6.424\n",
      "==============================================================================\n",
      "Omnibus:                        5.653   Durbin-Watson:                   0.125\n",
      "Prob(Omnibus):                  0.059   Jarque-Bera (JB):                5.681\n",
      "Skew:                           0.419   Prob(JB):                       0.0584\n",
      "Kurtosis:                       2.948   Cond. No.                     1.50e+03\n",
      "==============================================================================\n",
      "\n",
      "Notes:\n",
      "[1] Standard Errors assume that the covariance matrix of the errors is correctly specified.\n",
      "[2] The condition number is large, 1.5e+03. This might indicate that there are\n",
      "strong multicollinearity or other numerical problems.\n"
     ]
    }
   ],
   "source": [
    "X = data[['coffee']]\n",
    "X = sm.add_constant(X)\n",
    "Y = data['gold']\n",
    "print(\"\\nWyniki modelu OLS (gold ~ coffee):\")\n",
    "model_coffee = sm.OLS(Y, X).fit()\n",
    "print(model_coffee.summary())"
   ]
  },
  {
   "cell_type": "markdown",
   "metadata": {},
   "source": [
    "Skorygowany współczynnik determinacji $R^2$ wynosi w przybliżeniu $0.76$ co oznacza, że $76\\%$ zmienności zmiennej Y (złota) jest wyjaśniane przez model. Oznacza to, że tylko około $24\\%$ zmienności nie jest wyjaśniane przez model, co sugeruje, że nasz model jest dobry."
   ]
  },
  {
   "cell_type": "markdown",
   "metadata": {},
   "source": [
    "# Wnioski:\n",
    "Pierwszy model (gold ~ silver + coffee) jest najbardziej odpowiedni do przewidywania wartości złota, ponieważ ma najwyższe Adjusted $R^2$.\n",
    "\n",
    "Model (gold ~ silver) jest również dobry, ale mniej dokładny niż (gold ~ silver + coffee).\n",
    "\n",
    "Model (gold ~ coffee) jest najmniej dokładny spośród trzech analizowanych modeli."
   ]
  },
  {
   "cell_type": "markdown",
   "metadata": {},
   "source": [
    "# Test normalności dla wartości cen srebra"
   ]
  },
  {
   "cell_type": "markdown",
   "metadata": {},
   "source": [
    "$H_0:$ Wartości cen srebra mają rozkład normalny.\n",
    "\n",
    "$H_1:$ Wartości cen srebra mają rozkład inny niż normalny."
   ]
  },
  {
   "cell_type": "code",
   "execution_count": 22,
   "metadata": {},
   "outputs": [
    {
     "name": "stdout",
     "output_type": "stream",
     "text": [
      "test Shapiro-Wilka:\n",
      "wartość statystyki testowej:  0.8453547954559326\n",
      "p-wartość:  4.762944596017893e-13\n",
      "\n",
      "\n"
     ]
    }
   ],
   "source": [
    "print('test Shapiro-Wilka:')\n",
    "shapiro_result_silver = st.shapiro(data.silver)\n",
    "print('wartość statystyki testowej: ', shapiro_result_silver.statistic)\n",
    "print('p-wartość: ', shapiro_result_silver.pvalue)\n",
    "print(\"\\n\")"
   ]
  },
  {
   "cell_type": "markdown",
   "metadata": {},
   "source": [
    "W wykonanym teście zgodności, wartość p jest mniejsza niż 0.05, zatem hipotezę zerową należy odrzucić. \n",
    "Możemy przypuszczać, że rozkład cen srebra jest inny niż normalny. "
   ]
  },
  {
   "cell_type": "markdown",
   "metadata": {},
   "source": [
    "# Test normalności dla wartości cen kawy"
   ]
  },
  {
   "cell_type": "markdown",
   "metadata": {},
   "source": [
    "$H_0:$ Wartości cen kawy mają rozkład normalny.\n",
    "\n",
    "$H_1:$ Wartości cen kawy mają rozkład inny niż normalny."
   ]
  },
  {
   "cell_type": "code",
   "execution_count": 24,
   "metadata": {},
   "outputs": [
    {
     "name": "stdout",
     "output_type": "stream",
     "text": [
      "test Shapiro-Wilka:\n",
      "wartość statystyki testowej:  0.9653937816619873\n",
      "p-wartość:  0.00010831239342223853\n",
      "\n",
      "\n"
     ]
    }
   ],
   "source": [
    "print('test Shapiro-Wilka:')\n",
    "shapiro_result_coffee = st.shapiro(data.coffee)\n",
    "print('wartość statystyki testowej: ', shapiro_result_coffee.statistic)\n",
    "print('p-wartość: ', shapiro_result_coffee.pvalue)\n",
    "print(\"\\n\")"
   ]
  },
  {
   "cell_type": "markdown",
   "metadata": {},
   "source": [
    "W wykonanym teście zgodności, wartość p jest mniejsza niż 0.05, zatem hipotezę zerową należy odrzucić. \n",
    "Możemy przypuszczać, że rozkład cen kawy jest inny niż normalny. "
   ]
  },
  {
   "cell_type": "markdown",
   "metadata": {},
   "source": [
    "# Test na równość wariancji"
   ]
  },
  {
   "cell_type": "markdown",
   "metadata": {},
   "source": [
    "$H_0:$ Wariancje wartości cen srebra i kawy są takie same\n",
    "\n",
    "$H_1:$ Wariancje wartości cen srebra i kawy nie są takie same"
   ]
  },
  {
   "cell_type": "code",
   "execution_count": 25,
   "metadata": {},
   "outputs": [
    {
     "name": "stdout",
     "output_type": "stream",
     "text": [
      "wartość statystyki testowej:  214.38412327894616\n",
      "p-wartość:  6.94729981257217e-39\n",
      "\n",
      "\n"
     ]
    }
   ],
   "source": [
    "vartest_result_coffee = st.levene(data.silver, data.coffee)\n",
    "print('wartość statystyki testowej: ', vartest_result_coffee.statistic)\n",
    "print('p-wartość: ', vartest_result_coffee.pvalue)\n",
    "print(\"\\n\")"
   ]
  },
  {
   "cell_type": "markdown",
   "metadata": {},
   "source": [
    "Wartość p jest mniejsza niż 0.05, zatem hipotezę zerową należy odrzucić. \n",
    "Możemy przypuszczać, że wariancje wartości cen srebra i kawy nie są takie same. Co za tym idzie odchylenia również nie są takie same."
   ]
  },
  {
   "cell_type": "markdown",
   "metadata": {},
   "source": [
    "# Test na równość średnich wartości cen srebra i kawy"
   ]
  },
  {
   "cell_type": "markdown",
   "metadata": {},
   "source": [
    "$H_0:$ Średnie wartości cen srebra i kawy są takie same\n",
    "\n",
    "$H_1:$ Średnie wartości cen srebra i kawy nie są takie same"
   ]
  },
  {
   "cell_type": "code",
   "execution_count": 26,
   "metadata": {},
   "outputs": [
    {
     "name": "stdout",
     "output_type": "stream",
     "text": [
      "wartość statystyki testowej:  -93.619594801818\n",
      "p-wartość:  5.176675855394248e-165\n",
      "\n",
      "\n"
     ]
    }
   ],
   "source": [
    "ttest_result_coffee = st.ttest_ind(data.silver, data.coffee, equal_var=False, alternative='two-sided')\n",
    "print('wartość statystyki testowej: ', ttest_result_coffee.statistic)\n",
    "print('p-wartość: ', ttest_result_coffee.pvalue)\n",
    "print(\"\\n\")"
   ]
  },
  {
   "cell_type": "markdown",
   "metadata": {},
   "source": [
    "Wartość p jest mniejsza niż 0.05, zatem hipotezę zerową należy odrzucić. \n",
    "Możemy przypuszczać, że średnie wartości cen srebra i kawy nie są takie same."
   ]
  },
  {
   "cell_type": "markdown",
   "metadata": {},
   "source": [
    "# Test zgodności rozkładów złota i srebra"
   ]
  },
  {
   "cell_type": "markdown",
   "metadata": {},
   "source": [
    "$H_0:$ Rozkłady wartości cen złota i srebra są takie same\n",
    "\n",
    "$H_1:$ Rozkłady wartości cen złota i srebra nie są takie same"
   ]
  },
  {
   "cell_type": "code",
   "execution_count": 27,
   "metadata": {},
   "outputs": [
    {
     "name": "stdout",
     "output_type": "stream",
     "text": [
      "test Kołmogorowa-Smirnowa:\n",
      "wartość statystyki testowej:  1.0\n",
      "p-wartość:  3.126702340363196e-115\n"
     ]
    }
   ],
   "source": [
    "print('test Kołmogorowa-Smirnowa:')\n",
    "kstest_result_gold_silver = st.kstest(data.gold, data.silver)\n",
    "print('wartość statystyki testowej: ', kstest_result_gold_silver.statistic)\n",
    "print('p-wartość: ', kstest_result_gold_silver.pvalue)"
   ]
  },
  {
   "cell_type": "markdown",
   "metadata": {},
   "source": [
    "Wartość p jest mniejsza niż 0.05, zatem hipotezę zerową należy odrzucić. \n",
    "Możemy przypuszczać, że rozkłady wartości cen złota i srebra nie są takie same."
   ]
  }
 ],
 "metadata": {
  "kernelspec": {
   "display_name": "base",
   "language": "python",
   "name": "python3"
  },
  "language_info": {
   "codemirror_mode": {
    "name": "ipython",
    "version": 3
   },
   "file_extension": ".py",
   "mimetype": "text/x-python",
   "name": "python",
   "nbconvert_exporter": "python",
   "pygments_lexer": "ipython3",
   "version": "3.11.5"
  }
 },
 "nbformat": 4,
 "nbformat_minor": 2
}
